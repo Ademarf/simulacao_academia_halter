{
  "nbformat": 4,
  "nbformat_minor": 0,
  "metadata": {
    "colab": {
      "provenance": [],
      "authorship_tag": "ABX9TyOtp/NQhXx66wgr+PMIx1hG",
      "include_colab_link": true
    },
    "kernelspec": {
      "name": "python3",
      "display_name": "Python 3"
    },
    "language_info": {
      "name": "python"
    }
  },
  "cells": [
    {
      "cell_type": "markdown",
      "metadata": {
        "id": "view-in-github",
        "colab_type": "text"
      },
      "source": [
        "<a href=\"https://colab.research.google.com/github/Ademarf/simulacao_academia_halter/blob/main/Simulando_Academia.ipynb\" target=\"_parent\"><img src=\"https://colab.research.google.com/assets/colab-badge.svg\" alt=\"Open In Colab\"/></a>"
      ]
    },
    {
      "cell_type": "code",
      "execution_count": 3,
      "metadata": {
        "colab": {
          "base_uri": "https://localhost:8080/",
          "height": 523
        },
        "id": "mYTOC3zRuWy5",
        "outputId": "2be71b89-76fd-471b-ed2e-7e6e01de9619"
      },
      "outputs": [
        {
          "output_type": "execute_result",
          "data": {
            "text/plain": [
              "<seaborn.axisgrid.FacetGrid at 0x7855012eaa10>"
            ]
          },
          "metadata": {},
          "execution_count": 3
        },
        {
          "output_type": "display_data",
          "data": {
            "text/plain": [
              "<Figure size 500x500 with 1 Axes>"
            ],
            "image/png": "[encoded data removed]"
          },
          "metadata": {}
        }
      ],
      "source": [
        "import random\n",
        "\n",
        "class Academia:\n",
        "    def __init__(self):\n",
        "        self.halteres = [i for i in range(10, 36) if i % 2 == 0]\n",
        "        self.porta_halteres = ()\n",
        "        self.reinicar_o_dia()\n",
        "\n",
        "    def reinicar_o_dia(self):\n",
        "        self.porta_halteres = {i: i for i in self.halteres}\n",
        "\n",
        "    def listar_halteres(self):\n",
        "        return [i for i in self.porta_halteres.values() if i != 0]\n",
        "\n",
        "    def listar_espacos(self):\n",
        "        return [i for i, j in self.porta_halteres.items() if j == 0]\n",
        "\n",
        "    def pegar_haltere(self, peso):\n",
        "        halt_pos = list(self.porta_halteres.values()).index(peso)\n",
        "        key_halt = list(self.porta_halteres.keys())[halt_pos]\n",
        "        self.porta_halteres[key_halt] = 0\n",
        "        return peso\n",
        "\n",
        "    def devolver_halter(self, pos, peso):\n",
        "        self.porta_halteres[pos] = peso\n",
        "\n",
        "    def calcular_caos(self):\n",
        "        num_caos = [i for i, j in self.porta_halteres.items()if i != j]\n",
        "        return len(num_caos) / len(self.porta_halteres)\n",
        "\n",
        "\n",
        "class Usuario:\n",
        "    def __init__(self, tipo, academia):\n",
        "        self.tipo = tipo # 1 - normal | 2 - Bagunceiro\n",
        "        self.academia = academia\n",
        "        self.peso = 0\n",
        "\n",
        "    def iniciar_treino(self):\n",
        "        lista_pesos = self.academia.listar_halteres()\n",
        "        self.peso = random.choice(lista_pesos)\n",
        "        self.academia.pegar_haltere(self.peso)\n",
        "\n",
        "    def finalizar_treino(self):\n",
        "        espacos = self.academia.listar_espacos()\n",
        "\n",
        "        if self.tipo == 1:\n",
        "            if self.peso in espacos:\n",
        "                self.academia.devolver_halter(self.peso, self.peso)\n",
        "            else:\n",
        "                pos = random.choice(espacos)\n",
        "                self.academia.devolver_halter(pos, self.peso)\n",
        "\n",
        "        if self.tipo == 2:\n",
        "            pos = random.choice(espacos)\n",
        "            self.academia.devolver_halter(pos, self.peso)\n",
        "        self.peso = 0\n",
        "\n",
        "academia = Academia()\n",
        "\n",
        "usuarios = [Usuario(1, academia) for i in range(10)]\n",
        "usuarios += [Usuario(2, academia) for i in range(1)]\n",
        "random.shuffle(usuarios)\n",
        "\n",
        "list_chaos = []\n",
        "\n",
        "for k in range(50):\n",
        "    academia.reinicar_o_dia()\n",
        "    for i in range(10):\n",
        "        random.shuffle(usuarios)\n",
        "        for user in usuarios:\n",
        "            user.iniciar_treino()\n",
        "        for user in usuarios:\n",
        "            user.finalizar_treino()\n",
        "    list_chaos += [academia.calcular_caos()]\n",
        "\n",
        "import seaborn as sns\n",
        "sns.displot(list_chaos)\n",
        "\n",
        "\n",
        "\n"
      ]
    }
  ]
}